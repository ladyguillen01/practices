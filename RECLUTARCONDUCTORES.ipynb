{
 "cells": [
  {
   "cell_type": "code",
   "execution_count": 2,
   "id": "4429b873-0fb4-4c38-ad9d-7206286abe81",
   "metadata": {},
   "outputs": [
    {
     "name": "stderr",
     "output_type": "stream",
     "text": [
      "ERROR: Could not find a version that satisfies the requirement webbrowser (from versions: none)\n",
      "ERROR: No matching distribution found for webbrowser\n"
     ]
    },
    {
     "name": "stdout",
     "output_type": "stream",
     "text": [
      "Requirement already satisfied: pyautogui in c:\\users\\cpued\\anaconda3\\lib\\site-packages (0.9.54)\n",
      "Requirement already satisfied: pymsgbox in c:\\users\\cpued\\anaconda3\\lib\\site-packages (from pyautogui) (1.0.9)\n",
      "Requirement already satisfied: pytweening>=1.0.4 in c:\\users\\cpued\\anaconda3\\lib\\site-packages (from pyautogui) (1.2.0)\n",
      "Requirement already satisfied: pyscreeze>=0.1.21 in c:\\users\\cpued\\anaconda3\\lib\\site-packages (from pyautogui) (1.0.1)\n",
      "Requirement already satisfied: pygetwindow>=0.0.5 in c:\\users\\cpued\\anaconda3\\lib\\site-packages (from pyautogui) (0.0.9)\n",
      "Requirement already satisfied: mouseinfo in c:\\users\\cpued\\anaconda3\\lib\\site-packages (from pyautogui) (0.1.3)\n",
      "Requirement already satisfied: pyrect in c:\\users\\cpued\\anaconda3\\lib\\site-packages (from pygetwindow>=0.0.5->pyautogui) (0.2.0)\n",
      "Requirement already satisfied: pyperclip in c:\\users\\cpued\\anaconda3\\lib\\site-packages (from mouseinfo->pyautogui) (1.9.0)\n"
     ]
    }
   ],
   "source": [
    "#!pip install pandas\n",
    "#!pip install openpyxl\n",
    "\n",
    "!pip install pyautogui"
   ]
  },
  {
   "cell_type": "code",
   "execution_count": 13,
   "id": "10a9dcad-c7c9-4779-a797-1bd04d157c8c",
   "metadata": {},
   "outputs": [],
   "source": [
    "import webbrowser"
   ]
  },
  {
   "cell_type": "code",
   "execution_count": 3,
   "id": "25c383f3-72b4-430b-8615-05c552c9e456",
   "metadata": {},
   "outputs": [],
   "source": [
    "import pandas as pd\n",
    "import webbrowser as web\n",
    "import pyautogui as pg\n",
    "import time"
   ]
  },
  {
   "cell_type": "code",
   "execution_count": 4,
   "id": "beade782-cf74-4a5d-a1de-2d10192abc45",
   "metadata": {},
   "outputs": [
    {
     "data": {
      "text/html": [
       "<div>\n",
       "<style scoped>\n",
       "    .dataframe tbody tr th:only-of-type {\n",
       "        vertical-align: middle;\n",
       "    }\n",
       "\n",
       "    .dataframe tbody tr th {\n",
       "        vertical-align: top;\n",
       "    }\n",
       "\n",
       "    .dataframe thead th {\n",
       "        text-align: right;\n",
       "    }\n",
       "</style>\n",
       "<table border=\"1\" class=\"dataframe\">\n",
       "  <thead>\n",
       "    <tr style=\"text-align: right;\">\n",
       "      <th></th>\n",
       "      <th>NUMERO</th>\n",
       "    </tr>\n",
       "  </thead>\n",
       "  <tbody>\n",
       "    <tr>\n",
       "      <th>0</th>\n",
       "      <td>51900329157</td>\n",
       "    </tr>\n",
       "    <tr>\n",
       "      <th>1</th>\n",
       "      <td>51900403775</td>\n",
       "    </tr>\n",
       "    <tr>\n",
       "      <th>2</th>\n",
       "      <td>51900636419</td>\n",
       "    </tr>\n",
       "    <tr>\n",
       "      <th>3</th>\n",
       "      <td>51900735530</td>\n",
       "    </tr>\n",
       "    <tr>\n",
       "      <th>4</th>\n",
       "      <td>51900771552</td>\n",
       "    </tr>\n",
       "  </tbody>\n",
       "</table>\n",
       "</div>"
      ],
      "text/plain": [
       "        NUMERO\n",
       "0  51900329157\n",
       "1  51900403775\n",
       "2  51900636419\n",
       "3  51900735530\n",
       "4  51900771552"
      ]
     },
     "execution_count": 4,
     "metadata": {},
     "output_type": "execute_result"
    }
   ],
   "source": [
    "# Cargar el archivo Excel\n",
    "data = pd.read_excel(\"NCAT.xlsx\")\n",
    "\n",
    "# Mostrar las primeras filas\n",
    "data.head(5)"
   ]
  },
  {
   "cell_type": "code",
   "execution_count": 22,
   "id": "5703c10b-3d0c-4e33-afdc-fb98504cf58b",
   "metadata": {},
   "outputs": [],
   "source": [
    "for i in range(len(data)):\n",
    "    celular = data.loc[i,'NUMERO'].astype(str) # Convertir a string para que se añada al mensaje\n",
    "    \n",
    "    # Crear mensaje personalizado\n",
    "    mensaje = \"\"\"🚗 ¡Déjanos tus datos y consigue más viajes con EDW! 🚀\n",
    "\n",
    "¡Hey, conductor! 👋 Queremos que trabajes con nosotros sin preocupaciones y con más oportunidades de servicio. Solo necesitamos registrar tu información para que puedas acceder a más viajes.\n",
    "\n",
    "💡 ¿Por qué hacerlo?\n",
    "✅ Más viajes y mejores oportunidades.\n",
    "✅ Seguridad y respaldo en cada traslado.\n",
    "✅ Sin rollos ni complicaciones, solo beneficios.\n",
    "\n",
    "Es fácil y rápido. Solo llena este formulario y listo:\n",
    "📋 https://forms.office.com/r/jyCdWrjPeg\n",
    "\n",
    "Si tienes dudas, escríbenos al 903 330 764 y te ayudamos. ¡Súmate y sigamos rodando juntos!🚗\n",
    "\"\"\"\n",
    "\n",
    "\n",
    "# Ruta de Google Chrome (ajústala según tu sistema)\n",
    "chrome_path = \"C:\\\\Program Files\\\\Google\\\\Chrome\\\\Application\\\\chrome.exe\"\n",
    "\n",
    "# Registrar el navegador\n",
    "\n",
    "web.register(\"chrome\", None, web.BackgroundBrowser(chrome_path))\n",
    "\n",
    "# Usar el navegador registrado\n",
    "web.get(\"chrome\").open(\"https://web.whatsapp.com/send?phone=\" + celular + \"&text=\" + mensaje)\n",
    "\n",
    "time.sleep(15)           # Esperar 8 segundos a que cargue\n",
    "pg.click(1230,946)      # Hacer click en la caja de texto\n",
    "time.sleep(5)           # Esperar 2 segundos \n",
    "pg.press('enter')       # Enviar mensaje \n",
    "time.sleep(3)           # Esperar 3 segundos a que se envíe el mensaje\n",
    "pg.hotkey('ctrl', 'w')  \n",
    "time.sleep(5)"
   ]
  },
  {
   "cell_type": "code",
   "execution_count": 8,
   "id": "a018b4be-15da-4895-b9b3-17b72c5bba06",
   "metadata": {},
   "outputs": [
    {
     "data": {
      "text/plain": [
       "True"
      ]
     },
     "execution_count": 8,
     "metadata": {},
     "output_type": "execute_result"
    }
   ],
   "source": [
    "web.get(\"chrome\").open(\"https://web.whatsapp.com/send?phone=\" + celular + \"&text=\" + mensaje)"
   ]
  },
  {
   "cell_type": "code",
   "execution_count": null,
   "id": "c8882779-b571-4314-9fb8-ce86383f8253",
   "metadata": {},
   "outputs": [],
   "source": [
    "import webbrowser as web"
   ]
  },
  {
   "cell_type": "code",
   "execution_count": 1,
   "id": "ade8ff25-8de8-4e16-8bf4-967ab0f88f7a",
   "metadata": {},
   "outputs": [
    {
     "ename": "NameError",
     "evalue": "name 'pd' is not defined",
     "output_type": "error",
     "traceback": [
      "\u001b[1;31m---------------------------------------------------------------------------\u001b[0m",
      "\u001b[1;31mNameError\u001b[0m                                 Traceback (most recent call last)",
      "Cell \u001b[1;32mIn[1], line 1\u001b[0m\n\u001b[1;32m----> 1\u001b[0m data \u001b[38;5;241m=\u001b[39m pd\u001b[38;5;241m.\u001b[39mread_excel(\u001b[38;5;124m\"\u001b[39m\u001b[38;5;124mNCAT.xlsx\u001b[39m\u001b[38;5;124m\"\u001b[39m)\n\u001b[0;32m      3\u001b[0m \u001b[38;5;66;03m# Iterar sobre los números de teléfono\u001b[39;00m\n\u001b[0;32m      4\u001b[0m \u001b[38;5;28;01mfor\u001b[39;00m i \u001b[38;5;129;01min\u001b[39;00m \u001b[38;5;28mrange\u001b[39m(\u001b[38;5;28mlen\u001b[39m(data)):\n",
      "\u001b[1;31mNameError\u001b[0m: name 'pd' is not defined"
     ]
    }
   ],
   "source": [
    "data = pd.read_excel(\"NCAT.xlsx\")\n",
    "\n",
    "# Iterar sobre los números de teléfono\n",
    "for i in range(len(data)):\n",
    "    celular = str(data.loc[i, 'NUMERO'])  # Convertir a string\n",
    "\n",
    "    mensaje = \"\"\"🚗 ¡Déjanos tus datos y consigue más viajes con EDW! 🚀\n",
    "\n",
    "¡Hey, conductor! 👋 Queremos que trabajes con nosotros sin preocupaciones y con más oportunidades de servicio. Solo necesitamos registrar tu información para que puedas acceder a más viajes.\n",
    "\n",
    "💡 ¿Por qué hacerlo?\n",
    "✅ Más viajes y mejores oportunidades.\n",
    "✅ Seguridad y respaldo en cada traslado.\n",
    "✅ Sin rollos ni complicaciones, solo beneficios.\n",
    "\n",
    "Es fácil y rápido. Solo llena este formulario y listo:\n",
    "📋 https://forms.office.com/r/jyCdWrjPeg\n",
    "\n",
    "Si tienes dudas, escríbenos al 903 330 764 y te ayudamos. ¡Súmate y sigamos rodando juntos!🚗\n",
    "\"\"\"\n",
    "\n",
    "    # Abrir WhatsApp Web en Chrome\n",
    "    web.get(\"chrome\").open(f\"https://web.whatsapp.com/send?phone={celular}&text={mensaje}\")\n",
    "\n",
    "    time.sleep(18)\n",
    "    pg.click(1230,946)\n",
    "    pg.hotkey('ctrl','v')\n",
    "    time.sleep(2)\n",
    "    pg.press('enter')  \n",
    "    time.sleep(5)  \n",
    "    pg.hotkey('ctrl', 'w')\n",
    "    time.sleep(2) \n",
    "    pg.click(1053,261)\n",
    "    time.sleep(2) "
   ]
  },
  {
   "cell_type": "code",
   "execution_count": null,
   "id": "914cff51-5582-407f-9e92-2649f3f4c1ff",
   "metadata": {},
   "outputs": [],
   "source": []
  },
  {
   "cell_type": "code",
   "execution_count": null,
   "id": "e6eff431-6288-41ce-b758-a9aae2b6f625",
   "metadata": {},
   "outputs": [],
   "source": []
  }
 ],
 "metadata": {
  "kernelspec": {
   "display_name": "Python 3 (ipykernel)",
   "language": "python",
   "name": "python3"
  },
  "language_info": {
   "codemirror_mode": {
    "name": "ipython",
    "version": 3
   },
   "file_extension": ".py",
   "mimetype": "text/x-python",
   "name": "python",
   "nbconvert_exporter": "python",
   "pygments_lexer": "ipython3",
   "version": "3.12.7"
  }
 },
 "nbformat": 4,
 "nbformat_minor": 5
}
