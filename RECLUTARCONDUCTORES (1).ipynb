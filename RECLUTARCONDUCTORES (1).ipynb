{
 "cells": [
  {
   "cell_type": "code",
   "execution_count": 1,
   "id": "4429b873-0fb4-4c38-ad9d-7206286abe81",
   "metadata": {},
   "outputs": [
    {
     "name": "stdout",
     "output_type": "stream",
     "text": [
      "Requirement already satisfied: pandas in c:\\users\\cpued\\anaconda3\\lib\\site-packages (2.2.2)\n",
      "Requirement already satisfied: numpy>=1.26.0 in c:\\users\\cpued\\anaconda3\\lib\\site-packages (from pandas) (1.26.4)\n",
      "Requirement already satisfied: python-dateutil>=2.8.2 in c:\\users\\cpued\\anaconda3\\lib\\site-packages (from pandas) (2.9.0.post0)\n",
      "Requirement already satisfied: pytz>=2020.1 in c:\\users\\cpued\\anaconda3\\lib\\site-packages (from pandas) (2024.1)\n",
      "Requirement already satisfied: tzdata>=2022.7 in c:\\users\\cpued\\anaconda3\\lib\\site-packages (from pandas) (2023.3)\n",
      "Requirement already satisfied: six>=1.5 in c:\\users\\cpued\\anaconda3\\lib\\site-packages (from python-dateutil>=2.8.2->pandas) (1.16.0)\n",
      "Requirement already satisfied: openpyxl in c:\\users\\cpued\\anaconda3\\lib\\site-packages (3.1.5)\n",
      "Requirement already satisfied: et-xmlfile in c:\\users\\cpued\\anaconda3\\lib\\site-packages (from openpyxl) (1.1.0)\n",
      "Requirement already satisfied: pyautogui in c:\\users\\cpued\\anaconda3\\lib\\site-packages (0.9.54)\n",
      "Requirement already satisfied: pymsgbox in c:\\users\\cpued\\anaconda3\\lib\\site-packages (from pyautogui) (1.0.9)\n",
      "Requirement already satisfied: pytweening>=1.0.4 in c:\\users\\cpued\\anaconda3\\lib\\site-packages (from pyautogui) (1.2.0)\n",
      "Requirement already satisfied: pyscreeze>=0.1.21 in c:\\users\\cpued\\anaconda3\\lib\\site-packages (from pyautogui) (1.0.1)\n",
      "Requirement already satisfied: pygetwindow>=0.0.5 in c:\\users\\cpued\\anaconda3\\lib\\site-packages (from pyautogui) (0.0.9)\n",
      "Requirement already satisfied: mouseinfo in c:\\users\\cpued\\anaconda3\\lib\\site-packages (from pyautogui) (0.1.3)\n",
      "Requirement already satisfied: pyrect in c:\\users\\cpued\\anaconda3\\lib\\site-packages (from pygetwindow>=0.0.5->pyautogui) (0.2.0)\n",
      "Requirement already satisfied: pyperclip in c:\\users\\cpued\\anaconda3\\lib\\site-packages (from mouseinfo->pyautogui) (1.9.0)\n"
     ]
    }
   ],
   "source": [
    "!pip install pandas\n",
    "!pip install openpyxl\n",
    "\n",
    "!pip install pyautogui"
   ]
  },
  {
   "cell_type": "code",
   "execution_count": 2,
   "id": "25c383f3-72b4-430b-8615-05c552c9e456",
   "metadata": {},
   "outputs": [],
   "source": [
    "import pandas as pd"
   ]
  },
  {
   "cell_type": "code",
   "execution_count": 3,
   "id": "59da8b52-ca31-4cec-8d08-a614ede0171c",
   "metadata": {},
   "outputs": [],
   "source": [
    "import webbrowser as web"
   ]
  },
  {
   "cell_type": "code",
   "execution_count": 4,
   "id": "8f15e583-5ec1-4cc0-95a6-f01a638389e4",
   "metadata": {},
   "outputs": [],
   "source": [
    "import pyautogui as pg"
   ]
  },
  {
   "cell_type": "code",
   "execution_count": 5,
   "id": "b4754333-813d-47cd-b927-25ed5871aff0",
   "metadata": {},
   "outputs": [],
   "source": [
    "import time"
   ]
  },
  {
   "cell_type": "code",
   "execution_count": 6,
   "id": "10a9dcad-c7c9-4779-a797-1bd04d157c8c",
   "metadata": {},
   "outputs": [],
   "source": [
    "import webbrowser"
   ]
  },
  {
   "cell_type": "code",
   "execution_count": 7,
   "id": "3328e6fe-d325-4544-a3ef-a76bd2939538",
   "metadata": {},
   "outputs": [],
   "source": [
    "import pandas as pd"
   ]
  },
  {
   "cell_type": "code",
   "execution_count": 8,
   "id": "beade782-cf74-4a5d-a1de-2d10192abc45",
   "metadata": {},
   "outputs": [
    {
     "data": {
      "text/html": [
       "<div>\n",
       "<style scoped>\n",
       "    .dataframe tbody tr th:only-of-type {\n",
       "        vertical-align: middle;\n",
       "    }\n",
       "\n",
       "    .dataframe tbody tr th {\n",
       "        vertical-align: top;\n",
       "    }\n",
       "\n",
       "    .dataframe thead th {\n",
       "        text-align: right;\n",
       "    }\n",
       "</style>\n",
       "<table border=\"1\" class=\"dataframe\">\n",
       "  <thead>\n",
       "    <tr style=\"text-align: right;\">\n",
       "      <th></th>\n",
       "      <th>NUMERO</th>\n",
       "    </tr>\n",
       "  </thead>\n",
       "  <tbody>\n",
       "    <tr>\n",
       "      <th>0</th>\n",
       "      <td>901619465</td>\n",
       "    </tr>\n",
       "    <tr>\n",
       "      <th>1</th>\n",
       "      <td>904964343</td>\n",
       "    </tr>\n",
       "    <tr>\n",
       "      <th>2</th>\n",
       "      <td>947198266</td>\n",
       "    </tr>\n",
       "    <tr>\n",
       "      <th>3</th>\n",
       "      <td>922219916</td>\n",
       "    </tr>\n",
       "    <tr>\n",
       "      <th>4</th>\n",
       "      <td>993454882</td>\n",
       "    </tr>\n",
       "  </tbody>\n",
       "</table>\n",
       "</div>"
      ],
      "text/plain": [
       "      NUMERO\n",
       "0  901619465\n",
       "1  904964343\n",
       "2  947198266\n",
       "3  922219916\n",
       "4  993454882"
      ]
     },
     "execution_count": 8,
     "metadata": {},
     "output_type": "execute_result"
    }
   ],
   "source": [
    "# Cargar el archivo Excel\n",
    "data = pd.read_excel(\"BF.xlsx\")\n",
    "\n",
    "# Mostrar las primeras filas\n",
    "data.head(5)"
   ]
  },
  {
   "cell_type": "code",
   "execution_count": 9,
   "id": "c8882779-b571-4314-9fb8-ce86383f8253",
   "metadata": {},
   "outputs": [],
   "source": [
    "import webbrowser as web"
   ]
  },
  {
   "cell_type": "code",
   "execution_count": 9,
   "id": "d2a20f6b-2521-4778-8ded-1d411e8ecc61",
   "metadata": {},
   "outputs": [],
   "source": [
    "data = pd.read_excel(\"BF.xlsx\")\n",
    "\n",
    "# Iterar sobre los números de teléfono\n",
    "for i in range(len(data)):\n",
    "    celular = str(data.loc[i, 'NUMERO'])  # Convertir a string\n",
    "\n",
    "    mensaje = \"\"\"Estimado buenas...                                                                                                                                     \n",
    "    Somos EDW logística corporativa, con más de 15 años de experiencia brindando  servicios de traslado de de  personal corporativo, transporte de mercancía liviana y pesada.                                                                                                                                     \n",
    "    🚗 ¡Déjanos tus datos y consigue más viajes con EDW! 🚀                                                                                                                                     \n",
    "    ¡Hey, conductor! 👋 Queremos que trabajes con nosotros sin preocupaciones y con más oportunidades de servicio. Solo necesitamos registrar tu información para que puedas acceder a más viajes.💡 ¿Por qué hacerlo?                                                                                                                                     \n",
    "    ✅ Más viajes y mejores oportunidades.                                                                                                                                     \n",
    "    ✅ Seguridad y respaldo en cada traslado.                                                                                                                                     \n",
    "    ✅ Pagos puntuales al momento.                                                                                                                                      Para registrarte y empezar a asignarte servicios solo llena este formulario y listo:📋 https://forms.office.com/r/jyCdWrjPeg                                                                                                                                     \n",
    "    Si tienes dudas, escríbenos al 903 330 764 y te ayudamos. ¡Súmate y sigamos rodando juntos!\"\"\"\n",
    "    # Ruta de Google Chrome (ajústala según tu sistema)\n",
    "    chrome_path = \"C:\\\\Program Files\\\\Google\\\\Chrome\\\\Application\\\\chrome.exe\"\n",
    "\n",
    "    # Registrar el navegador\n",
    "    web.register(\"chrome\", None, web.BackgroundBrowser(chrome_path))\n",
    "\n",
    "    # Abrir WhatsApp Web en Chrome\n",
    "    web.get(\"chrome\").open(f\"https://web.whatsapp.com/send?phone={celular}&text={mensaje}\")\n",
    "\n",
    "    time.sleep(15)\n",
    "    pg.click(1230,946)\n",
    "    pg.hotkey('ctrl', 'v')\n",
    "    time.sleep(2)\n",
    "    pg.press('enter')  \n",
    "    time.sleep(2)\n",
    "    pg.hotkey('ctrl', 'w')  \n",
    "    pg.click(1053,261)\n",
    "    pg.press('enter')  \n",
    "    time.sleep(2) "
   ]
  },
  {
   "cell_type": "code",
   "execution_count": 11,
   "id": "e6eff431-6288-41ce-b758-a9aae2b6f625",
   "metadata": {},
   "outputs": [
    {
     "name": "stdout",
     "output_type": "stream",
     "text": [
      "terminaste\n"
     ]
    }
   ],
   "source": [
    "print(\"terminaste\")"
   ]
  }
 ],
 "metadata": {
  "kernelspec": {
   "display_name": "Python 3 (ipykernel)",
   "language": "python",
   "name": "python3"
  },
  "language_info": {
   "codemirror_mode": {
    "name": "ipython",
    "version": 3
   },
   "file_extension": ".py",
   "mimetype": "text/x-python",
   "name": "python",
   "nbconvert_exporter": "python",
   "pygments_lexer": "ipython3",
   "version": "3.12.7"
  }
 },
 "nbformat": 4,
 "nbformat_minor": 5
}
