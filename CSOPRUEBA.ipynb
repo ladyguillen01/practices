{
 "cells": [
  {
   "cell_type": "code",
   "execution_count": 1,
   "id": "cd1f5ffc-92cb-4bce-a270-d90c25105d2a",
   "metadata": {},
   "outputs": [],
   "source": [
    "import pandas as pd\n",
    "import webbrowser as web\n",
    "import pyautogui as pg\n",
    "import time"
   ]
  },
  {
   "cell_type": "code",
   "execution_count": 6,
   "id": "521bf8be-ed6a-4051-9efc-0c2bf6da3242",
   "metadata": {},
   "outputs": [
    {
     "data": {
      "text/html": [
       "<div>\n",
       "<style scoped>\n",
       "    .dataframe tbody tr th:only-of-type {\n",
       "        vertical-align: middle;\n",
       "    }\n",
       "\n",
       "    .dataframe tbody tr th {\n",
       "        vertical-align: top;\n",
       "    }\n",
       "\n",
       "    .dataframe thead th {\n",
       "        text-align: right;\n",
       "    }\n",
       "</style>\n",
       "<table border=\"1\" class=\"dataframe\">\n",
       "  <thead>\n",
       "    <tr style=\"text-align: right;\">\n",
       "      <th></th>\n",
       "      <th>CSO-SEDES</th>\n",
       "      <th>FECHAF</th>\n",
       "      <th>ESPECIALIDAD</th>\n",
       "      <th>NOMBRE DEL PERSONAL</th>\n",
       "      <th>TELEFONO</th>\n",
       "      <th>DETALLE</th>\n",
       "      <th>SERVICIO</th>\n",
       "      <th>H.RECOJO</th>\n",
       "      <th>HORA EN SEDE</th>\n",
       "      <th>HORA DE SALIDA</th>\n",
       "      <th>DIRECCION DE RECOJO</th>\n",
       "      <th>DISTRITO RECOJO</th>\n",
       "      <th>DIRECCION DE DESTINO</th>\n",
       "      <th>DISTRITO DE DESTINO</th>\n",
       "      <th>PROVEEDOR</th>\n",
       "      <th>CONDUCTOR</th>\n",
       "      <th>DATOS</th>\n",
       "    </tr>\n",
       "  </thead>\n",
       "  <tbody>\n",
       "    <tr>\n",
       "      <th>0</th>\n",
       "      <td>SAN GENARO</td>\n",
       "      <td>08:34:30.222000</td>\n",
       "      <td>caumsa</td>\n",
       "      <td>lilo</td>\n",
       "      <td>51956535539</td>\n",
       "      <td>NaN</td>\n",
       "      <td>IDA</td>\n",
       "      <td>08:30:00</td>\n",
       "      <td>NaN</td>\n",
       "      <td>NaN</td>\n",
       "      <td>NaN</td>\n",
       "      <td>LA MOLINA</td>\n",
       "      <td>VILLA EL SALVADOR</td>\n",
       "      <td>CHORRILLOS</td>\n",
       "      <td>NaN</td>\n",
       "      <td>GALINDO RICARDO</td>\n",
       "      <td>CONDUCTOR                                     ...</td>\n",
       "    </tr>\n",
       "  </tbody>\n",
       "</table>\n",
       "</div>"
      ],
      "text/plain": [
       "    CSO-SEDES           FECHAF ESPECIALIDAD NOMBRE DEL PERSONAL     TELEFONO  \\\n",
       "0  SAN GENARO  08:34:30.222000       caumsa                lilo  51956535539   \n",
       "\n",
       "   DETALLE SERVICIO  H.RECOJO  HORA EN SEDE  HORA DE SALIDA  \\\n",
       "0      NaN      IDA  08:30:00           NaN             NaN   \n",
       "\n",
       "   DIRECCION DE RECOJO DISTRITO RECOJO DIRECCION DE DESTINO  \\\n",
       "0                  NaN       LA MOLINA    VILLA EL SALVADOR   \n",
       "\n",
       "  DISTRITO DE DESTINO  PROVEEDOR         CONDUCTOR  \\\n",
       "0          CHORRILLOS        NaN  GALINDO RICARDO    \n",
       "\n",
       "                                               DATOS  \n",
       "0  CONDUCTOR                                     ...  "
      ]
     },
     "execution_count": 6,
     "metadata": {},
     "output_type": "execute_result"
    }
   ],
   "source": [
    "# Cargar el archivo Excel\n",
    "data = pd.read_excel(\"CSOPRUEBA.xlsx\")\n",
    "# Mostrar las primeras filas\n",
    "data.head(3)"
   ]
  },
  {
   "cell_type": "code",
   "execution_count": 16,
   "id": "94827c69-3e0a-4d5b-8329-bb86610b1b14",
   "metadata": {},
   "outputs": [],
   "source": [
    "data = pd.read_excel(\"CSOPRUEBA.xlsx\")\n",
    "\n",
    "# Iterar sobre los números de teléfono\n",
    "for i in range(len(data)):\n",
    "    celular = str(data.loc[i, 'TELEFONO'])  # Convertir a string\n",
    "    especialidad = data.loc[i,'ESPECIALIDAD']\n",
    "    nombre = data.loc[i,'NOMBRE DEL PERSONAL']\n",
    "    servicio=data.loc[i,'SERVICIO']\n",
    "    drecojo =data.loc[i,'DISTRITO RECOJO']\n",
    "    ddestino =data.loc[i,'DISTRITO DE DESTINO']\n",
    "    datos= data.loc[i,'DATOS']\n",
    "    fecha= str(data.loc[i,'FECHAF'])\n",
    "    \n",
    "    mensaje = \"Buenas👋  Dr. \" + nombre + \", su servicio de traslado de \" + servicio +\" programada para \"+ fecha +\" hrs,  desde \" + drecojo + \" a \" + ddestino+ \" tiene como conductor asignado al                                                                                                                               🚗\" + datos\n",
    "    \n",
    "        # Ruta de Google Chrome (ajústala según tu sistema)\n",
    "    chrome_path = \"C:\\\\Program Files\\\\Google\\\\Chrome\\\\Application\\\\chrome.exe\"\n",
    "\n",
    "    # Registrar el navegador\n",
    "    web.register(\"chrome\", None, web.BackgroundBrowser(chrome_path))\n",
    "\n",
    "    # Abrir WhatsApp Web en Chrome\n",
    "    web.get(\"chrome\").open(f\"https://web.whatsapp.com/send?phone={celular}&text={mensaje}\")\n",
    "\n",
    "    time.sleep(20)\n",
    "    pg.click(1230,946)\n",
    "    pg.hotkey('ctrl','v')\n",
    "    time.sleep(2)\n",
    "    pg.press('enter')  \n",
    "    time.sleep(5)  \n",
    "    pg.hotkey('ctrl', 'w')\n",
    "    time.sleep(2) \n",
    "    pg.click(1053,261)\n",
    "    time.sleep(2) "
   ]
  },
  {
   "cell_type": "code",
   "execution_count": null,
   "id": "ac1e7747-e7a5-45cb-b3d4-0c411f9767d8",
   "metadata": {},
   "outputs": [],
   "source": [
    "\n",
    "    pg.press('enter')      \n",
    "    pg.hotkey('ctrl', 'w')\n",
    "    time.sleep(2)"
   ]
  },
  {
   "cell_type": "code",
   "execution_count": null,
   "id": "61f569dc-2985-457d-8cd5-fef707a8005c",
   "metadata": {},
   "outputs": [],
   "source": []
  }
 ],
 "metadata": {
  "kernelspec": {
   "display_name": "Python 3 (ipykernel)",
   "language": "python",
   "name": "python3"
  },
  "language_info": {
   "codemirror_mode": {
    "name": "ipython",
    "version": 3
   },
   "file_extension": ".py",
   "mimetype": "text/x-python",
   "name": "python",
   "nbconvert_exporter": "python",
   "pygments_lexer": "ipython3",
   "version": "3.12.7"
  }
 },
 "nbformat": 4,
 "nbformat_minor": 5
}
